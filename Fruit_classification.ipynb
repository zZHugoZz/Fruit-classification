{
  "cells": [
    {
      "cell_type": "markdown",
      "metadata": {
        "id": "view-in-github",
        "colab_type": "text"
      },
      "source": [
        "<a href=\"https://colab.research.google.com/github/zZHugoZz/Fruit-classification/blob/main/Fruit_classification.ipynb\" target=\"_parent\"><img src=\"https://colab.research.google.com/assets/colab-badge.svg\" alt=\"Open In Colab\"/></a>"
      ]
    },
    {
      "cell_type": "code",
      "execution_count": null,
      "metadata": {
        "id": "_vXpLDq_pysd"
      },
      "outputs": [],
      "source": [
        "import random\n",
        "from pathlib import Path\n",
        "from PIL import Image\n",
        "from typing import Callable\n",
        "import torch\n",
        "from torch import nn\n",
        "from torch.utils.data import DataLoader, Dataset\n",
        "from torchvision.datasets import ImageFolder\n",
        "from torchvision.transforms import transforms as T\n",
        "from torch.nn.modules.loss import _Loss\n",
        "from torch.optim import Optimizer\n",
        "from torch.optim.lr_scheduler import ReduceLROnPlateau\n",
        "from torchvision.models import resnet18, ResNet18_Weights\n",
        "from torchvision.io import read_image\n",
        "from torchinfo import summary, ModelStatistics\n",
        "import matplotlib.pyplot as plt\n",
        "import numpy as np"
      ]
    },
    {
      "cell_type": "markdown",
      "source": [
        "# Seed and device\n",
        "\n",
        "* setting the seed and the batch size\n",
        "* setting the device to cuda if available"
      ],
      "metadata": {
        "id": "u-PBS0Eg_mTL"
      }
    },
    {
      "cell_type": "code",
      "execution_count": null,
      "metadata": {
        "id": "sBMqF5AyqA_T"
      },
      "outputs": [],
      "source": [
        "SEED = 5432\n",
        "BATCH_SIZE = 32\n",
        "\n",
        "torch.manual_seed(SEED)\n",
        "np.random.seed(SEED)\n",
        "random.seed(SEED)\n",
        "\n",
        "device = \"cuda\" if torch.cuda.is_available() else \"cpu\""
      ]
    },
    {
      "cell_type": "code",
      "execution_count": null,
      "metadata": {
        "id": "XeUMxRq_q4iJ"
      },
      "outputs": [],
      "source": [
        "root_path = Path(\"drive/MyDrive/Machine learning/Datasets/Fruit data\")\n",
        "train_path = root_path.joinpath(\"train\")\n",
        "test_path = root_path.joinpath(\"test\")\n",
        "predict_path = root_path / \"predict\"\n",
        "\n",
        "transform = T.Compose([\n",
        "    T.Resize((224, 224)),\n",
        "    T.RandomRotation(45),\n",
        "    T.RandomInvert(0.2),\n",
        "    T.RandomCrop((224, 224)),\n",
        "    T.ColorJitter(0.5),\n",
        "    T.ToTensor(),\n",
        "    T.Normalize(mean=[0.485, 0.456, 0.406],  std=[0.229, 0.224, 0.225])\n",
        "    # T.Normalize(mean=[20.7144, 18.0092, 13.6041], std=[6.9384, 7.3994, 8.1370])\n",
        "])\n",
        "\n",
        "\n",
        "class FruitDataset(Dataset):\n",
        "    def __init__(\n",
        "        self, train_path: Path, test_path: Path, predict_path: Path, tranform: Callable\n",
        "    ) -> None:\n",
        "        self.train_path = train_path\n",
        "        self.test_path = test_path\n",
        "        self.predict_path = predict_path\n",
        "        self.transform = transform\n",
        "\n",
        "        self.train_data = ImageFolder(str(train_path), self.transform)\n",
        "        self.test_data = ImageFolder(str(test_path), self.transform)\n",
        "        self.predict_images = self._process_predict_images(predict_path)\n",
        "\n",
        "    def __getitem__(self) -> tuple[ImageFolder, ImageFolder, torch.Tensor]:\n",
        "        return self.train_data, self.test_data, self.predict_images\n",
        "\n",
        "    def __len__(self) -> int:\n",
        "        return len(self.train_data) + len(self.test_data) + len(self.predict_images)\n",
        "\n",
        "    def _process_predict_images(self, predict_path: Path) -> torch.Tensor:\n",
        "        transform_predict = T.Compose([\n",
        "            T.ToPILImage(),\n",
        "            T.Resize((224, 224)),\n",
        "            T.ToTensor()\n",
        "        ])\n",
        "        predict_images = list(predict_path.glob(\"*.jpeg\"))\n",
        "        predict_images = [transform_predict(read_image(str(image))) for image in predict_images]\n",
        "        predict_images = [image for image in predict_images if image.shape == torch.Size([3, 224, 224])]\n",
        "        return torch.stack(predict_images)"
      ]
    },
    {
      "cell_type": "code",
      "source": [
        "class Normalization:\n",
        "    \"\"\"\n",
        "    Helper class to get the mean and std\n",
        "    \"\"\"\n",
        "\n",
        "    def __init__(self, train_data: ImageFolder, test_data: ImageFolder) -> None:\n",
        "        self.train_data = train_data\n",
        "        self.test_data = test_data\n",
        "\n",
        "    def get_stats(self) -> tuple[float, ...]:\n",
        "        train_dataloader = DataLoader(self.train_data, batch_size=BATCH_SIZE, shuffle=True, pin_memory=True)\n",
        "        test_dataloader = DataLoader(self.test_data, batch_size=BATCH_SIZE, shuffle=True, pin_memory=True)\n",
        "        train_mean, train_std = self._compute(train_dataloader, len(train_dataloader))\n",
        "        test_mean, test_std = self._compute(test_dataloader, len(test_dataloader))\n",
        "        return train_mean, train_std, test_mean, test_std\n",
        "\n",
        "    def _compute(self, dataloader: DataLoader, samples: int) -> tuple[float, float]:\n",
        "        mean = 0.0\n",
        "        std = 0.0\n",
        "        for images, _ in dataloader:\n",
        "            batch_samples = images.size(0)\n",
        "            images = images.view(batch_samples, images.size(1), -1)\n",
        "            mean += images.mean(2).sum(0)\n",
        "            std += images.std(2).sum(0)\n",
        "\n",
        "        mean /= samples\n",
        "        std /= samples\n",
        "        return mean, std"
      ],
      "metadata": {
        "id": "G6CzU2i2EQ1t"
      },
      "execution_count": null,
      "outputs": []
    },
    {
      "cell_type": "code",
      "source": [
        "fruit_dataset = FruitDataset(train_path, test_path, predict_path, transform)\n",
        "train_data, test_data, predict_images = fruit_dataset.__getitem__()\n",
        "\n",
        "def get_stats() -> None:\n",
        "    normalization = Normalization(train_data, test_data)\n",
        "    stats = normalization.get_stats()\n",
        "    print(stats)"
      ],
      "metadata": {
        "id": "O7ZbfQTFDsup"
      },
      "execution_count": null,
      "outputs": []
    },
    {
      "cell_type": "code",
      "source": [
        "train_dataloader = DataLoader(train_data, batch_size=BATCH_SIZE, shuffle=True, pin_memory=True)\n",
        "test_dataloader = DataLoader(test_data, batch_size=BATCH_SIZE, shuffle=True, pin_memory=True)"
      ],
      "metadata": {
        "id": "pSfCAs8FKuci"
      },
      "execution_count": null,
      "outputs": []
    },
    {
      "cell_type": "code",
      "source": [
        "def plot_images(n_rows: int, n_cols: int, dataset: ImageFolder) -> None:\n",
        "    fig, axs = plt.subplots(n_rows, n_cols, figsize=(10, 10))\n",
        "\n",
        "    for i, ax in enumerate(axs.flat):\n",
        "        image, label = dataset[random.randint(0, len(dataset))]\n",
        "        ax.imshow(image.permute(1, 2, 0))\n",
        "        ax.axis(\"off\")\n",
        "        ax.set_title(dataset.classes[label])\n",
        "\n",
        "    fig.tight_layout()\n",
        "    fig.show()\n",
        "\n",
        "\n",
        "def plot_predictions(\n",
        "    n_rows: int, n_cols: int, preds: torch.Tensor, images: torch.Tensor\n",
        ") -> None:\n",
        "    fig, axs = plt.subplots(n_rows, n_cols, figsize=(10, 10))\n",
        "\n",
        "    for i, ax in enumerate(axs.flat):\n",
        "        ax.imshow(images[i].permute(1, 2, 0))\n",
        "        ax.axis(\"off\")\n",
        "        ax.set_title(f\"predicted: {train_data.classes[preds[i]]}\")\n",
        "\n",
        "    fig.tight_layout()\n",
        "    fig.show()"
      ],
      "metadata": {
        "id": "XLhJxyg1D_Nx"
      },
      "execution_count": null,
      "outputs": []
    },
    {
      "cell_type": "code",
      "execution_count": null,
      "metadata": {
        "id": "9vyW5_dgrOVd"
      },
      "outputs": [],
      "source": [
        "class ModelPerformanceStats:\n",
        "    def __init__(self, epoch_values: list) -> None:\n",
        "        self.epoch_values = epoch_values\n",
        "        self.fig, (self.loss_ax, self.acc_ax) = plt.subplots(1, 2, figsize=(10, 3))\n",
        "\n",
        "    def plot_loss(self, train_loss_values: list, test_loss_values: list) -> None:\n",
        "        self.loss_ax.plot(self.epoch_values, train_loss_values, label=\"train loss\")\n",
        "        self.loss_ax.plot(self.epoch_values, test_loss_values, label=\"test loss\")\n",
        "        self.loss_ax.set_title(\"Loss\")\n",
        "        self.loss_ax.grid()\n",
        "        self.loss_ax.legend(loc=\"upper left\")\n",
        "\n",
        "    def plot_accuracy(self, train_acc_values: list, test_acc_values: list) -> None:\n",
        "        self.acc_ax.plot(self.epoch_values, train_acc_values, label=\"train accuracy\")\n",
        "        self.acc_ax.plot(self.epoch_values, test_acc_values, label=\"test accuracy\")\n",
        "        self.acc_ax.set_title(\"Accuracy\")\n",
        "        self.acc_ax.grid()\n",
        "        self.acc_ax.legend(loc=\"upper left\")\n",
        "\n",
        "    def show(self) -> None:\n",
        "        self.fig.tight_layout()\n",
        "        self.fig.show()"
      ]
    },
    {
      "cell_type": "code",
      "source": [
        "def get_summary(model: nn.Module, input_size: tuple) -> ModelStatistics:\n",
        "    return summary(model, input_size)\n",
        "\n",
        "\n",
        "def save_model(model_state_dict: object, path: str, model_file_name: str) -> None:\n",
        "    file = f\"{path}/{model_file_name}\"\n",
        "    torch.save(model_state_dict, file)"
      ],
      "metadata": {
        "id": "4rbJM0I1EFcq"
      },
      "execution_count": null,
      "outputs": []
    },
    {
      "cell_type": "markdown",
      "source": [
        "# Model\n",
        "\n",
        "* Insted of creating a model from scratch, we pick an already trained model, such as ```resnet18``` in this case. We just modify it to fit our needs\n",
        "\n",
        "* Then we get some info about the model using the helper function ```get_summary```"
      ],
      "metadata": {
        "id": "14BqTFKnDFoh"
      }
    },
    {
      "cell_type": "code",
      "execution_count": null,
      "metadata": {
        "id": "-rCS2vYlajb7"
      },
      "outputs": [],
      "source": [
        "fruit_classifier = resnet18(weights=ResNet18_Weights.DEFAULT)\n",
        "in_features = fruit_classifier.fc.in_features\n",
        "fruit_classifier.fc = nn.Linear(in_features, 10)\n",
        "get_summary(fruit_classifier, (32, 3, 224, 224))"
      ]
    },
    {
      "cell_type": "code",
      "source": [
        "# model_path = \"drive/MyDrive/Machine learning/Models/fruit_classifier\"\n",
        "# model = fruit_classifier\n",
        "# model.load_state_dict(torch.load(model_path))\n",
        "# model.eval()\n",
        "# logits = model(predict_images.to(device))\n",
        "# preds = torch.softmax(logits, dim=1).argmax(dim=1)\n",
        "# preds.cpu()\n",
        "\n",
        "# plot_predictions(4, 4, preds, predict_images)"
      ],
      "metadata": {
        "id": "ymQBKK_igbK-"
      },
      "execution_count": null,
      "outputs": []
    },
    {
      "cell_type": "markdown",
      "source": [
        "# Training and testing\n",
        "\n",
        "Down below is a class that contains three methods:\n",
        "* ```train_step:``` trains the model\n",
        "* ```test_step:``` tests the model with new data after each training step\n",
        "* ```get_accuracy:``` small method to get the accuracy after each training and testing step\n",
        "\n"
      ],
      "metadata": {
        "id": "hGrZaA9pAAXi"
      }
    },
    {
      "cell_type": "code",
      "execution_count": null,
      "metadata": {
        "id": "fNriwnN2OpH5"
      },
      "outputs": [],
      "source": [
        "class TrainAndTest:\n",
        "    def __init__(\n",
        "        self,\n",
        "        model: nn.Module,\n",
        "        train_data: DataLoader,\n",
        "        test_data: DataLoader,\n",
        "        criterion: _Loss,\n",
        "        optimizer: Optimizer,\n",
        "        device: str,\n",
        "        scheduler1: ReduceLROnPlateau | None = None,\n",
        "        scheduler2 = None\n",
        "    ) -> None:\n",
        "        self.model = model\n",
        "        self.train_data = train_data\n",
        "        self.test_data = test_data\n",
        "        self.criterion = criterion\n",
        "        self.optimizer = optimizer\n",
        "        self.device = device\n",
        "        self.scheduler1 = scheduler1\n",
        "        self.scheduler2 = scheduler2\n",
        "\n",
        "    def train_step(self) -> tuple[float, float]:\n",
        "        train_loss = torch.tensor(0, dtype=torch.float32).to(device)\n",
        "        train_acc = torch.tensor(0, dtype=torch.float32).to(device)\n",
        "\n",
        "        self.model.train()\n",
        "        for X, y in self.train_data:\n",
        "            X, y = X.to(self.device), y.to(self.device)\n",
        "            preds = self.model(X)\n",
        "\n",
        "            loss = self.criterion(preds, y)\n",
        "            acc = self.get_accuracy(torch.softmax(preds, dim=1).argmax(dim=1), y)\n",
        "            train_loss += loss\n",
        "            train_acc += acc\n",
        "\n",
        "            self.optimizer.zero_grad()\n",
        "            loss.backward()\n",
        "            self.optimizer.step()\n",
        "\n",
        "        if self.scheduler1 is not None:\n",
        "            self.scheduler1.step(train_loss, epoch)\n",
        "        if self.scheduler2 is not None:\n",
        "            self.scheduler2.step()\n",
        "\n",
        "        train_loss /= len(self.train_data)\n",
        "        train_acc /= len(self.train_data)\n",
        "        print(f\"train loss: {train_loss:.5f} | train accuracy: {train_acc:.2f}%\")\n",
        "        return train_loss.item(), train_acc.item()\n",
        "\n",
        "    def test_step(self) -> tuple[float, float]:\n",
        "        test_loss = torch.tensor(0, dtype=torch.float32).to(device)\n",
        "        test_acc = torch.tensor(0, dtype=torch.float32).to(device)\n",
        "\n",
        "        self.model.eval()\n",
        "        with torch.inference_mode():\n",
        "            for X, y in self.test_data:\n",
        "                X, y = X.to(self.device), y.to(self.device)\n",
        "                preds = self.model(X)\n",
        "\n",
        "                loss = self.criterion(preds, y)\n",
        "                acc = self.get_accuracy(torch.softmax(preds, dim=1).argmax(dim=1), y)\n",
        "                test_loss += loss\n",
        "                test_acc += acc\n",
        "\n",
        "            test_loss /= len(self.test_data)\n",
        "            test_acc /= len(self.test_data)\n",
        "            print(f\"test loss: {test_loss:.5f} | test accuracy: {test_acc:.2f}%\\n\")\n",
        "            return test_loss.item(), test_acc.item()\n",
        "\n",
        "    def get_accuracy(self, preds: torch.Tensor, labels: torch.Tensor) -> float:\n",
        "        equals = torch.eq(preds, labels).sum().item()\n",
        "        acc = (equals / len(labels)) * 100\n",
        "        return acc"
      ]
    },
    {
      "cell_type": "markdown",
      "source": [
        "# Training loop\n",
        "\n",
        "* First we set up the **criterion**, the **optimizer** and the **scheduler**\n",
        "* The 5 lists are to keep track of useful values that will be used for plots\n",
        "* Then we instanciate the ```TrainAndTest``` class\n",
        "* We append the useful values to the lists during the training loop\n",
        "* We save the model's ```state_dict```\n",
        "* And we plot the loss and accurayc for training and testing"
      ],
      "metadata": {
        "id": "w0JunvbhBf07"
      }
    },
    {
      "cell_type": "code",
      "execution_count": null,
      "metadata": {
        "id": "69Z2fhiaObqD"
      },
      "outputs": [],
      "source": [
        "EPOCHS = 50\n",
        "LEARNING_RATE = 0.001\n",
        "\n",
        "total_steps = len(train_dataloader) * EPOCHS\n",
        "\n",
        "criterion = nn.CrossEntropyLoss()\n",
        "# optimizer = torch.optim.SGD(fruit_classifier.parameters(), lr=LEARNING_RATE, momentum=0.9)\n",
        "optimizer = torch.optim.Adam(fruit_classifier.parameters(), lr=LEARNING_RATE)\n",
        "scheduler1 = torch.optim.lr_scheduler.ReduceLROnPlateau(optimizer, factor=0.5, patience=5)\n",
        "scheduler2 = torch.optim.lr_scheduler.OneCycleLR(optimizer, 0.1, total_steps)\n",
        "\n",
        "epoch_values = []\n",
        "train_loss_values = []\n",
        "test_loss_values = []\n",
        "train_acc_values = []\n",
        "test_acc_values = []\n",
        "\n",
        "train_test = TrainAndTest(\n",
        "    fruit_classifier,\n",
        "    train_dataloader,\n",
        "    test_dataloader,\n",
        "    criterion,\n",
        "    optimizer,\n",
        "    device,\n",
        "    scheduler1,\n",
        "    scheduler2\n",
        ")\n",
        "\n",
        "for epoch in range(EPOCHS):\n",
        "    print(f\"EPOCH {epoch}\\n----------\")\n",
        "    train_loss, train_acc = train_test.train_step()\n",
        "    test_loss, test_acc = train_test.test_step()\n",
        "\n",
        "    epoch_values.append(epoch)\n",
        "    train_loss_values.append(train_loss)\n",
        "    test_loss_values.append(test_loss)\n",
        "    train_acc_values.append(train_acc)\n",
        "    test_acc_values.append(test_acc)\n",
        "\n",
        "save_model(\n",
        "    fruit_classifier.state_dict(),\n",
        "    \"drive/MyDrive/Machine learning/Models\",\n",
        "    \"fruit_classifier\"\n",
        ")\n",
        "\n",
        "plot_performances = ModelPerformanceStats(epoch_values)\n",
        "plot_performances.plot_loss(train_loss_values, test_loss_values)\n",
        "plot_performances.plot_accuracy(train_acc_values, test_acc_values)\n",
        "plot_performances.show()"
      ]
    }
  ],
  "metadata": {
    "accelerator": "GPU",
    "colab": {
      "provenance": [],
      "gpuType": "T4",
      "mount_file_id": "1leBzq_PS4uyxb1sxYWVCXUqXx8NQAiKS",
      "authorship_tag": "ABX9TyNa7756NzAiGPJHscVHfYHF",
      "include_colab_link": true
    },
    "kernelspec": {
      "display_name": "Python 3",
      "name": "python3"
    },
    "language_info": {
      "name": "python"
    }
  },
  "nbformat": 4,
  "nbformat_minor": 0
}